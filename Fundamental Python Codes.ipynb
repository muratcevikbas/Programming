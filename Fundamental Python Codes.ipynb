{
 "cells": [
  {
   "cell_type": "markdown",
   "id": "e3ebbea0",
   "metadata": {},
   "source": [
    "# Strings"
   ]
  },
  {
   "cell_type": "code",
   "execution_count": 19,
   "id": "00396ace",
   "metadata": {},
   "outputs": [
    {
     "data": {
      "text/plain": [
       "'r'"
      ]
     },
     "execution_count": 19,
     "metadata": {},
     "output_type": "execute_result"
    }
   ],
   "source": [
    "a = \"murat\"\n",
    "a[2]"
   ]
  },
  {
   "cell_type": "code",
   "execution_count": 77,
   "id": "f3bf8cc0",
   "metadata": {},
   "outputs": [
    {
     "data": {
      "text/plain": [
       "3"
      ]
     },
     "execution_count": 77,
     "metadata": {},
     "output_type": "execute_result"
    }
   ],
   "source": [
    "a[2]"
   ]
  },
  {
   "cell_type": "code",
   "execution_count": 78,
   "id": "256a1372",
   "metadata": {},
   "outputs": [
    {
     "ename": "TypeError",
     "evalue": "'tuple' object does not support item assignment",
     "output_type": "error",
     "traceback": [
      "\u001b[1;31m---------------------------------------------------------------------------\u001b[0m",
      "\u001b[1;31mTypeError\u001b[0m                                 Traceback (most recent call last)",
      "Cell \u001b[1;32mIn[78], line 1\u001b[0m\n\u001b[1;32m----> 1\u001b[0m a[\u001b[38;5;241m2\u001b[39m] \u001b[38;5;241m=\u001b[39m \u001b[38;5;241m3\u001b[39m\n",
      "\u001b[1;31mTypeError\u001b[0m: 'tuple' object does not support item assignment"
     ]
    }
   ],
   "source": [
    "a[2] = 3  # değiştirlemez"
   ]
  },
  {
   "cell_type": "markdown",
   "id": "f95df7d3",
   "metadata": {},
   "source": [
    "# Tam Bölen"
   ]
  },
  {
   "cell_type": "code",
   "execution_count": 1,
   "id": "714c9631",
   "metadata": {},
   "outputs": [
    {
     "data": {
      "text/plain": [
       "1"
      ]
     },
     "execution_count": 1,
     "metadata": {},
     "output_type": "execute_result"
    }
   ],
   "source": [
    "5//3 "
   ]
  },
  {
   "cell_type": "markdown",
   "id": "b0c56c8f",
   "metadata": {},
   "source": [
    "# Print Özellikleri"
   ]
  },
  {
   "cell_type": "code",
   "execution_count": 2,
   "id": "96343c6e",
   "metadata": {},
   "outputs": [
    {
     "name": "stdout",
     "output_type": "stream",
     "text": [
      "1 2 3\n"
     ]
    }
   ],
   "source": [
    "print(1,2,3)"
   ]
  },
  {
   "cell_type": "code",
   "execution_count": 3,
   "id": "9cc76654",
   "metadata": {},
   "outputs": [
    {
     "name": "stdout",
     "output_type": "stream",
     "text": [
      "1/2/3\n"
     ]
    }
   ],
   "source": [
    "print(1,2,3,sep= \"/\") # separator"
   ]
  },
  {
   "cell_type": "code",
   "execution_count": 4,
   "id": "f0dddd41",
   "metadata": {},
   "outputs": [
    {
     "name": "stdout",
     "output_type": "stream",
     "text": [
      "m u r a t\n"
     ]
    }
   ],
   "source": [
    "print(*\"murat\")"
   ]
  },
  {
   "cell_type": "code",
   "execution_count": 5,
   "id": "f9389911",
   "metadata": {},
   "outputs": [
    {
     "name": "stdout",
     "output_type": "stream",
     "text": [
      "m-u-r-a-t\n"
     ]
    }
   ],
   "source": [
    "print(*\"murat\",sep=\"-\") # * string arasına boşluk koyar"
   ]
  },
  {
   "cell_type": "markdown",
   "id": "ae26ed0f",
   "metadata": {},
   "source": [
    "# Formatlama"
   ]
  },
  {
   "cell_type": "code",
   "execution_count": 6,
   "id": "a3f403df",
   "metadata": {},
   "outputs": [
    {
     "data": {
      "text/plain": [
       "\"2 işlemi ile 3 işlemi toplamı sonucu 5'dır\""
      ]
     },
     "execution_count": 6,
     "metadata": {},
     "output_type": "execute_result"
    }
   ],
   "source": [
    "\"{} işlemi ile {} işlemi toplamı sonucu {}'dır\".format(2,3,5)"
   ]
  },
  {
   "cell_type": "code",
   "execution_count": 7,
   "id": "faf45452",
   "metadata": {},
   "outputs": [
    {
     "name": "stdout",
     "output_type": "stream",
     "text": [
      "2 işlemi ile 3 işlemi toplamı sonucu 5'dır\n"
     ]
    }
   ],
   "source": [
    "a= 2\n",
    "b= 3\n",
    "print(\"{} işlemi ile {} işlemi toplamı sonucu {}'dır\".format(a,b,a+b))"
   ]
  },
  {
   "cell_type": "code",
   "execution_count": 9,
   "id": "b3f9364f",
   "metadata": {},
   "outputs": [
    {
     "name": "stdout",
     "output_type": "stream",
     "text": [
      "3 işlemi ile 2 işlemi toplamı sonucu 5'dır\n"
     ]
    }
   ],
   "source": [
    "# süslü parantez icine formTT yer alan hangi bilgiyi alacağını belirtme\n",
    "a= 2\n",
    "b= 3\n",
    "print(\"{1} işlemi ile {0} işlemi toplamı sonucu {2}'dır\".format(a,b,a+b))"
   ]
  },
  {
   "cell_type": "code",
   "execution_count": 10,
   "id": "ebd66ea3",
   "metadata": {},
   "outputs": [
    {
     "name": "stdout",
     "output_type": "stream",
     "text": [
      "2.23 işlemi ile 3.446 işlemi toplamı sonucu 5.6788'dır\n"
     ]
    }
   ],
   "source": [
    "# float ın belirli bir kısmına kadar yazdırmak\n",
    "a= 2.2333\n",
    "b= 3.4455\n",
    "print(\"{:.2f} işlemi ile {:.3f} işlemi toplamı sonucu {}'dır\".format(a,b,a+b))"
   ]
  },
  {
   "cell_type": "markdown",
   "id": "351a5b44",
   "metadata": {},
   "source": [
    "# Listeler "
   ]
  },
  {
   "cell_type": "code",
   "execution_count": 12,
   "id": "8b6b34d8",
   "metadata": {},
   "outputs": [
    {
     "data": {
      "text/plain": [
       "list"
      ]
     },
     "execution_count": 12,
     "metadata": {},
     "output_type": "execute_result"
    }
   ],
   "source": [
    "liste = []\n",
    "type(liste)"
   ]
  },
  {
   "cell_type": "code",
   "execution_count": 13,
   "id": "b43fc900",
   "metadata": {},
   "outputs": [
    {
     "data": {
      "text/plain": [
       "list"
      ]
     },
     "execution_count": 13,
     "metadata": {},
     "output_type": "execute_result"
    }
   ],
   "source": [
    "liste = list()\n",
    "type(liste)"
   ]
  },
  {
   "cell_type": "code",
   "execution_count": 15,
   "id": "a815aa7b",
   "metadata": {},
   "outputs": [
    {
     "data": {
      "text/plain": [
       "['M', 'e', 'r', 'h', 'a', 'b', 'a']"
      ]
     },
     "execution_count": 15,
     "metadata": {},
     "output_type": "execute_result"
    }
   ],
   "source": [
    "liste = list(\"Merhaba\")\n",
    "liste"
   ]
  },
  {
   "cell_type": "code",
   "execution_count": 16,
   "id": "013af0c9",
   "metadata": {},
   "outputs": [
    {
     "data": {
      "text/plain": [
       "7"
      ]
     },
     "execution_count": 16,
     "metadata": {},
     "output_type": "execute_result"
    }
   ],
   "source": [
    "len(liste)"
   ]
  },
  {
   "cell_type": "code",
   "execution_count": 20,
   "id": "103773b8",
   "metadata": {},
   "outputs": [
    {
     "data": {
      "text/plain": [
       "4"
      ]
     },
     "execution_count": 20,
     "metadata": {},
     "output_type": "execute_result"
    }
   ],
   "source": [
    "a = [1,2,3,4,5,6]\n",
    "a[3]"
   ]
  },
  {
   "cell_type": "code",
   "execution_count": 22,
   "id": "cfeea7e3",
   "metadata": {},
   "outputs": [
    {
     "data": {
      "text/plain": [
       "[1, 2, 3, 3, 5, 6]"
      ]
     },
     "execution_count": 22,
     "metadata": {},
     "output_type": "execute_result"
    }
   ],
   "source": [
    "a[3]=3\n",
    "a"
   ]
  },
  {
   "cell_type": "code",
   "execution_count": 23,
   "id": "6584c2a7",
   "metadata": {},
   "outputs": [
    {
     "data": {
      "text/plain": [
       "6"
      ]
     },
     "execution_count": 23,
     "metadata": {},
     "output_type": "execute_result"
    }
   ],
   "source": [
    "a[-1]"
   ]
  },
  {
   "cell_type": "code",
   "execution_count": 25,
   "id": "2bc53d3b",
   "metadata": {},
   "outputs": [
    {
     "data": {
      "text/plain": [
       "[6, 5, 3, 3, 2, 1]"
      ]
     },
     "execution_count": 25,
     "metadata": {},
     "output_type": "execute_result"
    }
   ],
   "source": [
    "a[::-1]"
   ]
  },
  {
   "cell_type": "code",
   "execution_count": 29,
   "id": "cee3e414",
   "metadata": {},
   "outputs": [
    {
     "data": {
      "text/plain": [
       "[2, 3, 3]"
      ]
     },
     "execution_count": 29,
     "metadata": {},
     "output_type": "execute_result"
    }
   ],
   "source": [
    "b= a[1:4]\n",
    "b"
   ]
  },
  {
   "cell_type": "code",
   "execution_count": 31,
   "id": "aff65b29",
   "metadata": {},
   "outputs": [
    {
     "data": {
      "text/plain": [
       "[2, 2, 2]"
      ]
     },
     "execution_count": 31,
     "metadata": {},
     "output_type": "execute_result"
    }
   ],
   "source": [
    "b[1:]=[2,2]\n",
    "b"
   ]
  },
  {
   "cell_type": "markdown",
   "id": "ef8cd1db",
   "metadata": {},
   "source": [
    "# Liste Metodları"
   ]
  },
  {
   "cell_type": "code",
   "execution_count": 32,
   "id": "6e702b5c",
   "metadata": {},
   "outputs": [],
   "source": [
    "#liste metodlarını görmek için nokta ve tab'a bas"
   ]
  },
  {
   "cell_type": "code",
   "execution_count": 39,
   "id": "e0c47423",
   "metadata": {},
   "outputs": [
    {
     "data": {
      "text/plain": [
       "[2, 4, 6, 8, 2]"
      ]
     },
     "execution_count": 39,
     "metadata": {},
     "output_type": "execute_result"
    }
   ],
   "source": [
    "c = [2,4,6,8]\n",
    "c.append(2)\n",
    "c"
   ]
  },
  {
   "cell_type": "code",
   "execution_count": 40,
   "id": "63a1c1d7",
   "metadata": {},
   "outputs": [
    {
     "data": {
      "text/plain": [
       "[2, 4, 8, 2]"
      ]
     },
     "execution_count": 40,
     "metadata": {},
     "output_type": "execute_result"
    }
   ],
   "source": [
    "c.pop(2)\n",
    "c"
   ]
  },
  {
   "cell_type": "code",
   "execution_count": 57,
   "id": "5add8d03",
   "metadata": {},
   "outputs": [
    {
     "data": {
      "text/plain": [
       "[2, 4, 8, 2]"
      ]
     },
     "execution_count": 57,
     "metadata": {},
     "output_type": "execute_result"
    }
   ],
   "source": [
    "a= c.copy()\n",
    "a"
   ]
  },
  {
   "cell_type": "code",
   "execution_count": 58,
   "id": "ec154a68",
   "metadata": {},
   "outputs": [
    {
     "name": "stdout",
     "output_type": "stream",
     "text": [
      "[2, 4, 2]\n"
     ]
    }
   ],
   "source": [
    "a.remove(8)\n",
    "print(a)"
   ]
  },
  {
   "cell_type": "code",
   "execution_count": 60,
   "id": "589dd741",
   "metadata": {},
   "outputs": [
    {
     "data": {
      "text/plain": [
       "[2, 2, 4]"
      ]
     },
     "execution_count": 60,
     "metadata": {},
     "output_type": "execute_result"
    }
   ],
   "source": [
    "a.sort()\n",
    "a"
   ]
  },
  {
   "cell_type": "code",
   "execution_count": 61,
   "id": "7d0e7fa7",
   "metadata": {},
   "outputs": [
    {
     "data": {
      "text/plain": [
       "[4, 2, 2]"
      ]
     },
     "execution_count": 61,
     "metadata": {},
     "output_type": "execute_result"
    }
   ],
   "source": [
    "a.sort(reverse = True)\n",
    "a"
   ]
  },
  {
   "cell_type": "code",
   "execution_count": 63,
   "id": "35c47ea0",
   "metadata": {},
   "outputs": [
    {
     "data": {
      "text/plain": [
       "3"
      ]
     },
     "execution_count": 63,
     "metadata": {},
     "output_type": "execute_result"
    }
   ],
   "source": [
    "b = [[1,2],[3,4],[5,6]]\n",
    "b[1][0]"
   ]
  },
  {
   "cell_type": "markdown",
   "id": "635f98ae",
   "metadata": {},
   "source": [
    "# Demetler (Tuple)"
   ]
  },
  {
   "cell_type": "code",
   "execution_count": 64,
   "id": "93926442",
   "metadata": {},
   "outputs": [],
   "source": [
    "# demetler değiştirilemez"
   ]
  },
  {
   "cell_type": "code",
   "execution_count": 65,
   "id": "4b6b8de1",
   "metadata": {},
   "outputs": [
    {
     "data": {
      "text/plain": [
       "3"
      ]
     },
     "execution_count": 65,
     "metadata": {},
     "output_type": "execute_result"
    }
   ],
   "source": [
    "a = (1,2,3,4)\n",
    "a[2]"
   ]
  },
  {
   "cell_type": "code",
   "execution_count": 66,
   "id": "74d5c8fd",
   "metadata": {},
   "outputs": [
    {
     "data": {
      "text/plain": [
       "(1, 2, 3)"
      ]
     },
     "execution_count": 66,
     "metadata": {},
     "output_type": "execute_result"
    }
   ],
   "source": [
    "a[:3]"
   ]
  },
  {
   "cell_type": "code",
   "execution_count": 67,
   "id": "61ef9672",
   "metadata": {},
   "outputs": [
    {
     "data": {
      "text/plain": [
       "(4, 3, 2, 1)"
      ]
     },
     "execution_count": 67,
     "metadata": {},
     "output_type": "execute_result"
    }
   ],
   "source": [
    "a[::-1]"
   ]
  },
  {
   "cell_type": "markdown",
   "id": "fd2c38ca",
   "metadata": {},
   "source": [
    "# Demetlerde Metodlar"
   ]
  },
  {
   "cell_type": "code",
   "execution_count": 71,
   "id": "41237fe0",
   "metadata": {},
   "outputs": [
    {
     "data": {
      "text/plain": [
       "4"
      ]
     },
     "execution_count": 71,
     "metadata": {},
     "output_type": "execute_result"
    }
   ],
   "source": [
    "# demetlerde 2 metod bulunuyor\n",
    "a = (1,2,3,4,2,3,4,2,2,3)\n",
    "a.count(2)"
   ]
  },
  {
   "cell_type": "code",
   "execution_count": 79,
   "id": "244730c5",
   "metadata": {},
   "outputs": [
    {
     "data": {
      "text/plain": [
       "1"
      ]
     },
     "execution_count": 79,
     "metadata": {},
     "output_type": "execute_result"
    }
   ],
   "source": [
    "b = (\"murat\",\"ali\",\"veli\")\n",
    "b.index(\"ali\")"
   ]
  },
  {
   "cell_type": "code",
   "execution_count": 76,
   "id": "f96c12fc",
   "metadata": {},
   "outputs": [
    {
     "data": {
      "text/plain": [
       "1"
      ]
     },
     "execution_count": 76,
     "metadata": {},
     "output_type": "execute_result"
    }
   ],
   "source": [
    "a = (1,2,3,4,2,3,4,2,2,3)\n",
    "a.index(2)"
   ]
  },
  {
   "cell_type": "code",
   "execution_count": 80,
   "id": "9179e348",
   "metadata": {},
   "outputs": [
    {
     "data": {
      "text/plain": [
       "'veli'"
      ]
     },
     "execution_count": 80,
     "metadata": {},
     "output_type": "execute_result"
    }
   ],
   "source": [
    "b[2]"
   ]
  },
  {
   "cell_type": "code",
   "execution_count": 81,
   "id": "479defe4",
   "metadata": {},
   "outputs": [
    {
     "ename": "TypeError",
     "evalue": "'tuple' object does not support item assignment",
     "output_type": "error",
     "traceback": [
      "\u001b[1;31m---------------------------------------------------------------------------\u001b[0m",
      "\u001b[1;31mTypeError\u001b[0m                                 Traceback (most recent call last)",
      "Cell \u001b[1;32mIn[81], line 1\u001b[0m\n\u001b[1;32m----> 1\u001b[0m b[\u001b[38;5;241m2\u001b[39m]\u001b[38;5;241m=\u001b[39m \u001b[38;5;241m3\u001b[39m\n",
      "\u001b[1;31mTypeError\u001b[0m: 'tuple' object does not support item assignment"
     ]
    }
   ],
   "source": [
    "b[2]= 3 #demetler değiştirilemez"
   ]
  },
  {
   "cell_type": "markdown",
   "id": "3c9edfe8",
   "metadata": {},
   "source": [
    "# Sözlük"
   ]
  },
  {
   "cell_type": "code",
   "execution_count": 83,
   "id": "b0610069",
   "metadata": {},
   "outputs": [
    {
     "data": {
      "text/plain": [
       "dict"
      ]
     },
     "execution_count": 83,
     "metadata": {},
     "output_type": "execute_result"
    }
   ],
   "source": [
    "a ={\"bir\":1,\"iki\":2,\"üç\":3,\"dört\":4}\n",
    "type(a)"
   ]
  },
  {
   "cell_type": "code",
   "execution_count": 84,
   "id": "01f189c0",
   "metadata": {},
   "outputs": [
    {
     "data": {
      "text/plain": [
       "dict"
      ]
     },
     "execution_count": 84,
     "metadata": {},
     "output_type": "execute_result"
    }
   ],
   "source": [
    "b = {}\n",
    "type(b)"
   ]
  },
  {
   "cell_type": "code",
   "execution_count": 86,
   "id": "80bbf89d",
   "metadata": {},
   "outputs": [
    {
     "data": {
      "text/plain": [
       "dict"
      ]
     },
     "execution_count": 86,
     "metadata": {},
     "output_type": "execute_result"
    }
   ],
   "source": [
    "c = dict()\n",
    "type(c)"
   ]
  },
  {
   "cell_type": "code",
   "execution_count": 87,
   "id": "56f73141",
   "metadata": {},
   "outputs": [
    {
     "data": {
      "text/plain": [
       "1"
      ]
     },
     "execution_count": 87,
     "metadata": {},
     "output_type": "execute_result"
    }
   ],
   "source": [
    "a ={\"bir\":1,\"iki\":2,\"üç\":3,\"dört\":4}\n",
    "a[\"bir\"]"
   ]
  },
  {
   "cell_type": "code",
   "execution_count": 95,
   "id": "86d545f3",
   "metadata": {},
   "outputs": [
    {
     "data": {
      "text/plain": [
       "{'bir': 1, 'iki': 2, 'üç': 3, 'dört': 4, 'beş': 5}"
      ]
     },
     "execution_count": 95,
     "metadata": {},
     "output_type": "execute_result"
    }
   ],
   "source": [
    "a[\"beş\"] = 5\n",
    "a"
   ]
  },
  {
   "cell_type": "code",
   "execution_count": 97,
   "id": "612bee94",
   "metadata": {},
   "outputs": [
    {
     "name": "stdout",
     "output_type": "stream",
     "text": [
      "{'iki': 2, 'üç': 3, 'dört': 4, 'beş': 5}\n"
     ]
    }
   ],
   "source": [
    "a.pop(\"bir\")\n",
    "print(a)"
   ]
  },
  {
   "cell_type": "code",
   "execution_count": 101,
   "id": "72ddf1bf",
   "metadata": {},
   "outputs": [
    {
     "data": {
      "text/plain": [
       "{'iki': 2, 'üç': 3, 'dört': 4, 'beş': 2}"
      ]
     },
     "execution_count": 101,
     "metadata": {},
     "output_type": "execute_result"
    }
   ],
   "source": [
    "a[\"beş\"]= 2\n",
    "a"
   ]
  },
  {
   "cell_type": "code",
   "execution_count": 102,
   "id": "fd852eef",
   "metadata": {},
   "outputs": [
    {
     "data": {
      "text/plain": [
       "{'iki': 2, 'üç': 3, 'dört': 4, 'beş': 3}"
      ]
     },
     "execution_count": 102,
     "metadata": {},
     "output_type": "execute_result"
    }
   ],
   "source": [
    "a[\"beş\"]+=1\n",
    "a"
   ]
  },
  {
   "cell_type": "code",
   "execution_count": 108,
   "id": "013042dd",
   "metadata": {},
   "outputs": [
    {
     "data": {
      "text/plain": [
       "'yaz'"
      ]
     },
     "execution_count": 108,
     "metadata": {},
     "output_type": "execute_result"
    }
   ],
   "source": [
    "a = {\"sayılar\":{\"bir\":1,\"iki\":2}, \"meyveler\":{\"kiraz\":\"yaz\",\"portakal\":\"kış\"}, \"hayvanlar\":{\"keçi\":\"türkiye\"}}\n",
    "a[\"meyveler\"][\"kiraz\"]"
   ]
  },
  {
   "cell_type": "code",
   "execution_count": 109,
   "id": "500e16db",
   "metadata": {},
   "outputs": [
    {
     "data": {
      "text/plain": [
       "dict_keys(['bir', 'iki', 'üç', 'dört'])"
      ]
     },
     "execution_count": 109,
     "metadata": {},
     "output_type": "execute_result"
    }
   ],
   "source": [
    "a ={\"bir\":1,\"iki\":2,\"üç\":3,\"dört\":4}\n",
    "a.keys()"
   ]
  },
  {
   "cell_type": "code",
   "execution_count": 110,
   "id": "733879b1",
   "metadata": {},
   "outputs": [
    {
     "data": {
      "text/plain": [
       "dict_values([1, 2, 3, 4])"
      ]
     },
     "execution_count": 110,
     "metadata": {},
     "output_type": "execute_result"
    }
   ],
   "source": [
    "a ={\"bir\":1,\"iki\":2,\"üç\":3,\"dört\":4}\n",
    "a.values()"
   ]
  },
  {
   "cell_type": "code",
   "execution_count": 113,
   "id": "6d831e68",
   "metadata": {},
   "outputs": [
    {
     "data": {
      "text/plain": [
       "dict_items([('bir', 1), ('iki', 2), ('üç', 3), ('dört', 4)])"
      ]
     },
     "execution_count": 113,
     "metadata": {},
     "output_type": "execute_result"
    }
   ],
   "source": [
    "a ={\"bir\":1,\"iki\":2,\"üç\":3,\"dört\":4}\n",
    "a.items()"
   ]
  },
  {
   "cell_type": "code",
   "execution_count": 114,
   "id": "ebd98db1",
   "metadata": {},
   "outputs": [
    {
     "name": "stdout",
     "output_type": "stream",
     "text": [
      "bir 1\n",
      "iki 2\n",
      "üç 3\n",
      "dört 4\n"
     ]
    }
   ],
   "source": [
    "for x,y in a.items():\n",
    "    print(x,y)"
   ]
  },
  {
   "cell_type": "code",
   "execution_count": 116,
   "id": "8ad95327",
   "metadata": {},
   "outputs": [
    {
     "name": "stdout",
     "output_type": "stream",
     "text": [
      "[1, 2, 3, 4]\n"
     ]
    }
   ],
   "source": [
    "a ={\"bir\":1,\"iki\":2,\"üç\":3,\"dört\":4}\n",
    "liste=[]\n",
    "for i in a.values():\n",
    "    liste.append(i)\n",
    "print(liste)"
   ]
  },
  {
   "cell_type": "code",
   "execution_count": 117,
   "id": "3dbb1413",
   "metadata": {},
   "outputs": [
    {
     "name": "stdout",
     "output_type": "stream",
     "text": [
      "10\n"
     ]
    }
   ],
   "source": [
    "a ={\"bir\":1,\"iki\":2,\"üç\":3,\"dört\":4}\n",
    "toplam = 0\n",
    "for i in a.values():\n",
    "    toplam +=i\n",
    "print(toplam)"
   ]
  },
  {
   "cell_type": "code",
   "execution_count": 120,
   "id": "dac7c8f4",
   "metadata": {},
   "outputs": [
    {
     "name": "stdout",
     "output_type": "stream",
     "text": [
      "9\n"
     ]
    }
   ],
   "source": [
    "a = 3\n",
    "b = print(a*3)\n",
    "b"
   ]
  },
  {
   "cell_type": "markdown",
   "id": "8204bd56",
   "metadata": {},
   "source": [
    "# Boolean (ya Ture ya da False değeri alırlar) 0 False, diğer sayılar True dur"
   ]
  },
  {
   "cell_type": "code",
   "execution_count": 121,
   "id": "9ff145ac",
   "metadata": {},
   "outputs": [
    {
     "name": "stdout",
     "output_type": "stream",
     "text": [
      "<class 'bool'>\n"
     ]
    }
   ],
   "source": [
    "a = True\n",
    "print(type(a))"
   ]
  },
  {
   "cell_type": "code",
   "execution_count": 122,
   "id": "2de6bd48",
   "metadata": {},
   "outputs": [
    {
     "data": {
      "text/plain": [
       "True"
      ]
     },
     "execution_count": 122,
     "metadata": {},
     "output_type": "execute_result"
    }
   ],
   "source": [
    "bool(12.4)"
   ]
  },
  {
   "cell_type": "code",
   "execution_count": 124,
   "id": "3b1c715a",
   "metadata": {},
   "outputs": [
    {
     "data": {
      "text/plain": [
       "True"
      ]
     },
     "execution_count": 124,
     "metadata": {},
     "output_type": "execute_result"
    }
   ],
   "source": [
    "bool(-1.2)"
   ]
  },
  {
   "cell_type": "code",
   "execution_count": 123,
   "id": "fccda36d",
   "metadata": {},
   "outputs": [
    {
     "data": {
      "text/plain": [
       "False"
      ]
     },
     "execution_count": 123,
     "metadata": {},
     "output_type": "execute_result"
    }
   ],
   "source": [
    "bool(0)"
   ]
  },
  {
   "cell_type": "markdown",
   "id": "769e0a5d",
   "metadata": {},
   "source": [
    "# Değişken Değerini SOnradan Atamak İçin Değişkene None Atanır"
   ]
  },
  {
   "cell_type": "code",
   "execution_count": 125,
   "id": "5f42eb17",
   "metadata": {},
   "outputs": [
    {
     "name": "stdout",
     "output_type": "stream",
     "text": [
      "None\n"
     ]
    }
   ],
   "source": [
    "a = None\n",
    "print(a)"
   ]
  },
  {
   "cell_type": "markdown",
   "id": "0e3078fd",
   "metadata": {},
   "source": [
    "# Mantıksal Bağlaçlar"
   ]
  },
  {
   "cell_type": "code",
   "execution_count": 127,
   "id": "2f878950",
   "metadata": {},
   "outputs": [
    {
     "data": {
      "text/plain": [
       "True"
      ]
     },
     "execution_count": 127,
     "metadata": {},
     "output_type": "execute_result"
    }
   ],
   "source": [
    "1 < 2 and \"Alya\"> \"Ali\""
   ]
  },
  {
   "cell_type": "code",
   "execution_count": 129,
   "id": "f2a5144b",
   "metadata": {},
   "outputs": [
    {
     "data": {
      "text/plain": [
       "True"
      ]
     },
     "execution_count": 129,
     "metadata": {},
     "output_type": "execute_result"
    }
   ],
   "source": [
    "1 > 2 or \"Alya\"> \"Ali\""
   ]
  },
  {
   "cell_type": "code",
   "execution_count": 130,
   "id": "a3bb81bf",
   "metadata": {},
   "outputs": [
    {
     "data": {
      "text/plain": [
       "False"
      ]
     },
     "execution_count": 130,
     "metadata": {},
     "output_type": "execute_result"
    }
   ],
   "source": [
    "1 > 2 and \"Alya\"> \"Ali\""
   ]
  },
  {
   "cell_type": "code",
   "execution_count": 131,
   "id": "80dbcaba",
   "metadata": {},
   "outputs": [
    {
     "data": {
      "text/plain": [
       "True"
      ]
     },
     "execution_count": 131,
     "metadata": {},
     "output_type": "execute_result"
    }
   ],
   "source": [
    "1 != 2"
   ]
  },
  {
   "cell_type": "markdown",
   "id": "432be6cc",
   "metadata": {},
   "source": [
    "# For Döngüsü"
   ]
  },
  {
   "cell_type": "code",
   "execution_count": 134,
   "id": "6fcf8000",
   "metadata": {},
   "outputs": [
    {
     "data": {
      "text/plain": [
       "True"
      ]
     },
     "execution_count": 134,
     "metadata": {},
     "output_type": "execute_result"
    }
   ],
   "source": [
    "\"at\" in \"Murat\""
   ]
  },
  {
   "cell_type": "code",
   "execution_count": 133,
   "id": "920ed17c",
   "metadata": {},
   "outputs": [
    {
     "data": {
      "text/plain": [
       "True"
      ]
     },
     "execution_count": 133,
     "metadata": {},
     "output_type": "execute_result"
    }
   ],
   "source": [
    "3 in [1,2,3,4,5]"
   ]
  },
  {
   "cell_type": "code",
   "execution_count": 135,
   "id": "6f6bd4db",
   "metadata": {},
   "outputs": [
    {
     "data": {
      "text/plain": [
       "True"
      ]
     },
     "execution_count": 135,
     "metadata": {},
     "output_type": "execute_result"
    }
   ],
   "source": [
    "3 in (1,2,3,4,5)"
   ]
  },
  {
   "cell_type": "code",
   "execution_count": 137,
   "id": "c1df0b04",
   "metadata": {},
   "outputs": [
    {
     "data": {
      "text/plain": [
       "False"
      ]
     },
     "execution_count": 137,
     "metadata": {},
     "output_type": "execute_result"
    }
   ],
   "source": [
    "2 in {\"bir\":1,\"iki\":2}"
   ]
  },
  {
   "cell_type": "code",
   "execution_count": 143,
   "id": "dc4a3c37",
   "metadata": {},
   "outputs": [
    {
     "data": {
      "text/plain": [
       "True"
      ]
     },
     "execution_count": 143,
     "metadata": {},
     "output_type": "execute_result"
    }
   ],
   "source": [
    "a = {\"bir\":1,\"iki\":2}\n",
    "2 in a.values()"
   ]
  },
  {
   "cell_type": "code",
   "execution_count": 138,
   "id": "4806b75a",
   "metadata": {},
   "outputs": [
    {
     "data": {
      "text/plain": [
       "True"
      ]
     },
     "execution_count": 138,
     "metadata": {},
     "output_type": "execute_result"
    }
   ],
   "source": [
    "\"bir\" in {\"bir\":1,\"iki\":2}"
   ]
  },
  {
   "cell_type": "code",
   "execution_count": 147,
   "id": "ebbd05e0",
   "metadata": {},
   "outputs": [
    {
     "data": {
      "text/plain": [
       "True"
      ]
     },
     "execution_count": 147,
     "metadata": {},
     "output_type": "execute_result"
    }
   ],
   "source": [
    " \"\"\"************************ÖNEMLİ****************************************\"\"\"\n",
    "not 6 in (1,2,3,4,5) \n"
   ]
  },
  {
   "cell_type": "code",
   "execution_count": 7,
   "id": "f04a69e9",
   "metadata": {},
   "outputs": [
    {
     "name": "stdout",
     "output_type": "stream",
     "text": [
      "ppp\n",
      "yyy\n",
      "ttt\n",
      "hhh\n",
      "ooo\n",
      "nnn\n"
     ]
    }
   ],
   "source": [
    "a = \"python\"\n",
    "for i in a:\n",
    "    print(i*3)"
   ]
  },
  {
   "cell_type": "code",
   "execution_count": 4,
   "id": "d9d05d64",
   "metadata": {},
   "outputs": [
    {
     "name": "stdout",
     "output_type": "stream",
     "text": [
      "1\n",
      "2\n",
      "3\n"
     ]
    }
   ],
   "source": [
    "a = [1,2,3]\n",
    "for i in a:\n",
    "    print (i)"
   ]
  },
  {
   "cell_type": "code",
   "execution_count": 3,
   "id": "a75bb924",
   "metadata": {},
   "outputs": [
    {
     "name": "stdout",
     "output_type": "stream",
     "text": [
      "1\n",
      "2\n",
      "3\n"
     ]
    }
   ],
   "source": [
    "a = (1,2,3)\n",
    "for i in a:\n",
    "    print (i)"
   ]
  },
  {
   "cell_type": "code",
   "execution_count": 5,
   "id": "7291eacb",
   "metadata": {},
   "outputs": [
    {
     "name": "stdout",
     "output_type": "stream",
     "text": [
      "1\n",
      "2\n",
      "3\n",
      "4\n",
      "5\n",
      "6\n"
     ]
    }
   ],
   "source": [
    "a = [(1,2),(3,4),(5,6)]\n",
    "for i in a:\n",
    "    for x in i:\n",
    "        print(x)"
   ]
  },
  {
   "cell_type": "code",
   "execution_count": 7,
   "id": "c5ee6c21",
   "metadata": {},
   "outputs": [
    {
     "name": "stdout",
     "output_type": "stream",
     "text": [
      "i: 1, j: 2\n",
      "i: 3, j: 4\n",
      "i: 5, j: 6\n"
     ]
    }
   ],
   "source": [
    "a = [(1,2),(3,4),(5,6)]\n",
    "for i,j in a:\n",
    "    print(\"i: {}, j: {}\".format(i,j) )"
   ]
  },
  {
   "cell_type": "code",
   "execution_count": 9,
   "id": "13547ff9",
   "metadata": {},
   "outputs": [
    {
     "name": "stdout",
     "output_type": "stream",
     "text": [
      "i: 1, j: 2\n",
      "i: 3, j: 4\n",
      "i: 5, j: 6\n"
     ]
    }
   ],
   "source": [
    "a = [[1,2],[3,4],[5,6]]\n",
    "for i,j in a:\n",
    "    print(\"i: {}, j: {}\".format(i,j) )"
   ]
  },
  {
   "cell_type": "code",
   "execution_count": 20,
   "id": "2b9b5d34",
   "metadata": {},
   "outputs": [
    {
     "name": "stdout",
     "output_type": "stream",
     "text": [
      "{'bir': 1}\n",
      "{'iki': 3}\n",
      "{'üç': 5}\n",
      "3\n"
     ]
    }
   ],
   "source": [
    "a = [{\"bir\":1},{\"iki\":3},{\"üç\":5}]\n",
    "for i in a:\n",
    "    print(i)\n",
    "for i in a[1].values():\n",
    "    print(i)"
   ]
  },
  {
   "cell_type": "code",
   "execution_count": 23,
   "id": "47f254b4",
   "metadata": {},
   "outputs": [
    {
     "name": "stdout",
     "output_type": "stream",
     "text": [
      "dict_items([('bir', 1), ('iki', 2), ('üç', 3)])\n"
     ]
    }
   ],
   "source": [
    "a = {\"bir\":1,\"iki\":2,\"üç\":3}\n",
    "print(a.items())"
   ]
  },
  {
   "cell_type": "code",
   "execution_count": 25,
   "id": "9999a511",
   "metadata": {},
   "outputs": [
    {
     "name": "stdout",
     "output_type": "stream",
     "text": [
      "Key: bir, Value: 1\n",
      "Key: iki, Value: 2\n",
      "Key: üç, Value: 3\n"
     ]
    }
   ],
   "source": [
    "# ***********ÖNEMLİ******************************************\n",
    "for i,j in a.items():\n",
    "    print(\"Key: {}, Value: {}\".format(i,j))\n",
    "    "
   ]
  },
  {
   "cell_type": "markdown",
   "id": "334c42a2",
   "metadata": {},
   "source": [
    "# While"
   ]
  },
  {
   "cell_type": "code",
   "execution_count": 3,
   "id": "89f90635",
   "metadata": {},
   "outputs": [
    {
     "name": "stdout",
     "output_type": "stream",
     "text": [
      "[0, 1, 2]\n"
     ]
    }
   ],
   "source": [
    "i = 0\n",
    "liste = list()\n",
    "while i < 3:\n",
    "    liste.append(i)\n",
    "    i +=1\n",
    "print(liste)"
   ]
  },
  {
   "cell_type": "markdown",
   "id": "1a18e06b",
   "metadata": {},
   "source": [
    "liste =[1,2,3,4,5]\n",
    "i = 0\n",
    "while i < len(liste):\n",
    "    print(liste[i])\n",
    "    i +=1"
   ]
  },
  {
   "cell_type": "markdown",
   "id": "8c65b46c",
   "metadata": {},
   "source": [
    "# Range"
   ]
  },
  {
   "cell_type": "code",
   "execution_count": 2,
   "id": "46d5b23c",
   "metadata": {},
   "outputs": [
    {
     "name": "stdout",
     "output_type": "stream",
     "text": [
      "0 2 4 6 8\n"
     ]
    }
   ],
   "source": [
    "print(*range(0,10,2))   # * koymadan print te bastıramıyoruz\n"
   ]
  },
  {
   "cell_type": "code",
   "execution_count": 4,
   "id": "2ed247d6",
   "metadata": {},
   "outputs": [
    {
     "name": "stdout",
     "output_type": "stream",
     "text": [
      "10 9 8 7 6 5 4 3 2 1\n"
     ]
    }
   ],
   "source": [
    "print(*range(10,0,-1))"
   ]
  },
  {
   "cell_type": "markdown",
   "id": "9afab821",
   "metadata": {},
   "source": [
    "# Break ve Continue"
   ]
  },
  {
   "cell_type": "code",
   "execution_count": 10,
   "id": "fc9f7439",
   "metadata": {},
   "outputs": [
    {
     "name": "stdout",
     "output_type": "stream",
     "text": [
      "İsminizi Giriniz, çıkmak için q ya basınız...Murat\n",
      "İsminiz:  Murat\n",
      "İsminizi Giriniz, çıkmak için q ya basınız...q\n",
      "Programdan Çıkılıyor...\n"
     ]
    }
   ],
   "source": [
    "while True:\n",
    "    a = input(\"İsminizi Giriniz, çıkmak için q ya basınız...\")\n",
    "    if a == \"q\":\n",
    "        print(\"Programdan Çıkılıyor...\")\n",
    "        break\n",
    "    else:\n",
    "        print(\"İsminiz: \", a)\n",
    "    "
   ]
  },
  {
   "cell_type": "code",
   "execution_count": 15,
   "id": "8805891e",
   "metadata": {},
   "outputs": [
    {
     "name": "stdout",
     "output_type": "stream",
     "text": [
      "0\n",
      "1\n",
      "3\n",
      "5\n"
     ]
    }
   ],
   "source": [
    "for i in range(0,6):\n",
    "    if i == 4 or i==2:   # continue dediğimizde for a geri dönüyor. Bu sebeple while döngüsü kullanırsak aşağıda yer alacak arttırım işlemini yapamayacak döngü sonsuz döngüye girdecek\n",
    "        continue\n",
    "    print(i)"
   ]
  },
  {
   "cell_type": "code",
   "execution_count": null,
   "id": "669bebb6",
   "metadata": {},
   "outputs": [],
   "source": []
  }
 ],
 "metadata": {
  "kernelspec": {
   "display_name": "Python 3 (ipykernel)",
   "language": "python",
   "name": "python3"
  },
  "language_info": {
   "codemirror_mode": {
    "name": "ipython",
    "version": 3
   },
   "file_extension": ".py",
   "mimetype": "text/x-python",
   "name": "python",
   "nbconvert_exporter": "python",
   "pygments_lexer": "ipython3",
   "version": "3.11.5"
  }
 },
 "nbformat": 4,
 "nbformat_minor": 5
}
